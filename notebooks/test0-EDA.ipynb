{
 "cells": [
  {
   "cell_type": "markdown",
   "metadata": {},
   "source": [
    "## Importing Libraries and dataset"
   ]
  },
  {
   "cell_type": "code",
   "execution_count": null,
   "metadata": {},
   "outputs": [],
   "source": [
    "# Importing libraries \n",
    "import pandas as pd \n",
    "import matplotlib.pyplot as plt\n",
    "import seaborn as sns\n",
    "from windrose import WindroseAxes"
   ]
  },
  {
   "cell_type": "code",
   "execution_count": null,
   "metadata": {},
   "outputs": [],
   "source": [
    "# Importing dataset from file \n",
    "data_1_Uncleaned=pd.read_csv(\"../data/benin-malanville.csv\")\n",
    "data_2_Uncleaned=pd.read_csv(\"../data/sierraleone-bumbuna.csv\")\n",
    "data_3_Uncleaned=pd.read_csv(\"../data/togo-dapaong_qc.csv\")"
   ]
  },
  {
   "cell_type": "markdown",
   "metadata": {},
   "source": [
    "## Data Cleaning"
   ]
  },
  {
   "cell_type": "code",
   "execution_count": null,
   "metadata": {},
   "outputs": [],
   "source": [
    "# Cleaning of data\n",
    "data_1 = data_1_Uncleaned.dropna(axis=1, how='all')\n",
    "data_2 = data_2_Uncleaned.dropna(axis=1, how='all')\n",
    "data_3 = data_3_Uncleaned.dropna(axis=1, how='all')"
   ]
  },
  {
   "cell_type": "markdown",
   "metadata": {},
   "source": [
    "## Data Quality Check\n"
   ]
  },
  {
   "cell_type": "code",
   "execution_count": null,
   "metadata": {},
   "outputs": [],
   "source": [
    "# Checking for a missing value\n",
    "name_of_data = input(\"Enter dataset name here (info: data_1 is Benin Malanville, data_2 is Sierraleone Bumbuna and data_3 is Togo Dapaong QC): \")\n",
    "name_of_data = locals()[name_of_data]\n",
    "missing_value = name_of_data.isnull().sum()\n",
    "print(\"Missing Values in the data are:\\n\", missing_value)"
   ]
  },
  {
   "cell_type": "code",
   "execution_count": null,
   "metadata": {},
   "outputs": [],
   "source": [
    "# Checking for a negative value\n",
    "name_of_data = input(\"Enter dataset name here (info: data_1 is Benin Malanville, data_2 is Sierraleone Bumbuna and data_3 is Togo Dapaong QC): \")\n",
    "name_of_data = locals()[name_of_data]\n",
    "negative_value = name_of_data[(name_of_data['GHI'] < 0) | (name_of_data['DNI'] < 0) | (name_of_data['DHI'] < 0)]\n",
    "print(\"Negative values in the data are:\\n\", negative_value)"
   ]
  },
  {
   "cell_type": "markdown",
   "metadata": {},
   "source": [
    "## General statistics analysis of datasets"
   ]
  },
  {
   "cell_type": "code",
   "execution_count": null,
   "metadata": {},
   "outputs": [],
   "source": [
    "# Display the general summary statistics of dataset\n",
    "name_of_data = input(\"Enter dataset name here (info: data_1 is Benin Malanville, data_2 is Sierraleone Bumbuna and data_3 is Togo Dapaong QC): \")\n",
    "name_of_data = locals()[name_of_data]\n",
    "name_of_data.describe()"
   ]
  },
  {
   "cell_type": "markdown",
   "metadata": {},
   "source": [
    "## Temperature Analysis"
   ]
  },
  {
   "cell_type": "code",
   "execution_count": null,
   "metadata": {},
   "outputs": [],
   "source": [
    "# Display Temperature Analysis\n",
    "name_of_data = input(\"Enter dataset name here (info: data_1 is Benin Malanville, data_2 is Sierraleone Bumbuna and data_3 is Togo Dapaong QC): \")\n",
    "name_of_data = locals()[name_of_data]\n",
    "\n",
    "plt.subplot(1, 2, 1)\n",
    "plt.scatter(name_of_data['Tamb'], name_of_data['TModA'], color='blue', alpha=0.5)\n",
    "plt.title('TModA vs Tamb')\n",
    "plt.xlabel('Ambient Temperature (Tamb)')\n",
    "plt.ylabel('Module Temperature A (TModA)')\n",
    "\n",
    "\n",
    "plt.subplot(1, 2, 2)\n",
    "plt.scatter(name_of_data['Tamb'], name_of_data['TModB'], color='red', alpha=0.5)\n",
    "plt.title('TModB vs Tamb')\n",
    "plt.xlabel('Ambient Temperature (Tamb)')\n",
    "plt.ylabel('Module Temperature B (TModB)')\n",
    "\n",
    "plt.tight_layout()\n",
    "plt.show()"
   ]
  },
  {
   "cell_type": "markdown",
   "metadata": {},
   "source": [
    "## Correlation Analysis"
   ]
  },
  {
   "cell_type": "code",
   "execution_count": null,
   "metadata": {},
   "outputs": [],
   "source": [
    "# Display Correlation Analysis\n",
    "name_of_data = input(\"Enter dataset name here (info: data_1 is Benin Malanville, data_2 is Sierraleone Bumbuna and data_3 is Togo Dapaong QC): \")\n",
    "name_of_data = locals()[name_of_data]\n",
    "correlation_of_TModA = name_of_data['Tamb'].corr(name_of_data['TModA'])\n",
    "correlation_of_TModB = name_of_data['Tamb'].corr(name_of_data['TModB'])\n",
    "\n",
    "print(f\"Correlation coefficient between Tamb and TModA: {round(correlation_of_TModA, 4)}\")\n",
    "print(f\"Correlation coefficient between Tamb and TModB: {round(correlation_of_TModB, 4)}\")"
   ]
  },
  {
   "cell_type": "markdown",
   "metadata": {},
   "source": [
    "# Time Series Analysis"
   ]
  },
  {
   "cell_type": "code",
   "execution_count": null,
   "metadata": {},
   "outputs": [],
   "source": [
    "# Display Temperature Analysis\n",
    "name_of_data = input(\"Enter dataset name here (info: data_1 is Benin Malanville, data_2 is Sierraleone Bumbuna and data_3 is Togo Dapaong QC): \")\n",
    "name_of_data = locals()[name_of_data]\n",
    "\n",
    "name_of_data ['Timestamp'] = pd.to_datetime(name_of_data['Timestamp'])\n",
    "name_of_data.set_index('Timestamp', inplace=True)\n",
    "\n",
    "plt.subplot(2, 2, 1)\n",
    "plt.plot(name_of_data['GHI'], color='blue')\n",
    "plt.title('Global Horizontal Irradiance')\n",
    "plt.xlabel('Timestamp')\n",
    "plt.ylabel('GHI')\n",
    "\n",
    "plt.subplot(2, 2, 2)\n",
    "plt.plot(name_of_data['DNI'], color='red')\n",
    "plt.title('Direct Normal Irradiance')\n",
    "plt.xlabel('Timestamp')\n",
    "plt.ylabel('DNI')\n",
    "\n",
    "\n",
    "plt.subplot(2, 2, 3)\n",
    "plt.plot(name_of_data['DHI'], color='green')\n",
    "plt.title('Diffuse Horizontal Irradiance')\n",
    "plt.xlabel('Timestamp')\n",
    "plt.ylabel('DHI')\n",
    "\n",
    "plt.subplot(2, 2, 4)\n",
    "plt.plot(name_of_data['Tamb'], color='orange')\n",
    "plt.title('Ambient Temperature')\n",
    "plt.xlabel('Timestamp')\n",
    "plt.ylabel('Tamb')\n",
    "\n",
    "plt.tight_layout()\n",
    "plt.show()"
   ]
  },
  {
   "cell_type": "markdown",
   "metadata": {},
   "source": [
    "# Wind Analysis"
   ]
  },
  {
   "cell_type": "code",
   "execution_count": null,
   "metadata": {},
   "outputs": [],
   "source": [
    "# Display Wind Analysis\n",
    "name_of_data = input(\"Enter dataset name here (info: data_1 is Benin Malanville, data_2 is Sierraleone Bumbuna and data_3 is Togo Dapaong QC): \")\n",
    "name_of_data = locals()[name_of_data]\n",
    "\n",
    "name_of_data['Timestamp'] = pd.to_datetime(name_of_data['Timestamp'])\n",
    "name_of_data.set_index('Timestamp', inplace=True)\n",
    "\n",
    "\n",
    "plt.subplot(2, 2, 1)\n",
    "plt.plot(name_of_data['WS'], color='blue', label='WS')\n",
    "plt.plot(name_of_data['WSgust'], color='green', label='WSgust')\n",
    "plt.plot(name_of_data['WSstdev'], color='red', label='WSstdev')\n",
    "plt.title('Wind Speed')\n",
    "plt.xlabel('Timestamp')\n",
    "plt.ylabel('Wind Speed (m/s)')\n",
    "plt.legend()\n",
    "\n",
    "\n",
    "\n",
    "plt.subplot(2, 2, 2)\n",
    "plt.plot(name_of_data['WD'], color='blue', label='WD')\n",
    "plt.plot(name_of_data['WDstdev'], color='green', label='WDstdev')\n",
    "plt.title('Wind Direction')\n",
    "plt.xlabel('Timestamp')\n",
    "plt.ylabel('Wind Direction (degrees)')\n",
    "plt.legend()\n",
    "\n",
    "\n",
    "plt.tight_layout()\n",
    "plt.show()"
   ]
  },
  {
   "cell_type": "code",
   "execution_count": null,
   "metadata": {},
   "outputs": [],
   "source": [
    "# Display Histogram of Wind Speed\n",
    "name_of_data = input(\"Enter dataset name here (info: data_1 is Benin Malanville, data_2 is Sierraleone Bumbuna and data_3 is Togo Dapaong QC): \")\n",
    "name_of_data = locals()[name_of_data]\n",
    "\n",
    "plt.figure(figsize=(5, 6))\n",
    "sns.histplot(name_of_data['WS'], bins=20, kde=True, color='blue')\n",
    "plt.title('Histogram of Wind Speed')\n",
    "plt.xlabel('Wind Speed (m/s)')\n",
    "plt.ylabel('Frequency')\n",
    "plt.show()"
   ]
  },
  {
   "cell_type": "code",
   "execution_count": null,
   "metadata": {},
   "outputs": [],
   "source": [
    "# Display Wind Speed\n",
    "name_of_data = input(\"Enter dataset name here (info: data_1 is Benin Malanville, data_2 is Sierraleone Bumbuna and data_3 is Togo Dapaong QC): \")\n",
    "name_of_data = locals()[name_of_data]\n",
    "\n",
    "plt.figure(figsize=(10, 10))\n",
    "ax = WindroseAxes.from_ax()\n",
    "ax.bar(name_of_data['WD'], name_of_data['WS'], normed=True, opening=0.8, edgecolor='white')\n",
    "ax.set_legend(title='Wind Speed (m/s)')\n",
    "plt.title('Wind Rose Plot')\n",
    "plt.show()"
   ]
  },
  {
   "cell_type": "markdown",
   "metadata": {},
   "source": [
    "## Plotting"
   ]
  },
  {
   "cell_type": "code",
   "execution_count": null,
   "metadata": {},
   "outputs": [],
   "source": [
    "#Display Box Plot of a dataset\n",
    "name_of_data = input(\"Enter dataset name here (info: data_1 is Benin Malanville, data_2 is Sierraleone Bumbuna and data_3 is Togo Dapaong QC): \")\n",
    "name_of_data = locals()[name_of_data]\n",
    "target_columns_to_look_1 = ['GHI', 'DNI', 'DHI', 'Tamb', 'TModA', 'TModB']\n",
    "plt.figure(figsize=(10, 6))\n",
    "name_of_data[target_columns_to_look_1].boxplot()\n",
    "plt.title('Box Plot of Benin Malanville')\n",
    "plt.ylabel('Value')\n",
    "plt.xticks(rotation=45)\n",
    "plt.show()"
   ]
  },
  {
   "cell_type": "code",
   "execution_count": null,
   "metadata": {},
   "outputs": [],
   "source": [
    "# Display Histograms of a dataset\n",
    "name_of_data = input(\"Enter dataset name here (info: data_1 is Benin Malanville, data_2 is Sierraleone Bumbuna and data_3 is Togo Dapaong QC): \")\n",
    "name_of_colmun = input(\"Which colmun of data do you want to display: \")\n",
    "name_of_data  = locals()[name_of_data]\n",
    "plt.subplot(3, 2, 1)\n",
    "plt.hist(name_of_data[name_of_colmun], bins=20, color='blue', alpha=0.7)\n",
    "plt.title('Histogram of '+ name_of_colmun)\n",
    "plt.xlabel(name_of_colmun)\n",
    "plt.ylabel('Frequency')"
   ]
  },
  {
   "cell_type": "code",
   "execution_count": null,
   "metadata": {},
   "outputs": [],
   "source": [
    "# Display Scatterplots of a dataset\n",
    "name_of_data = input(\"Enter dataset name here (info: data_1 is Benin Malanville, data_2 is Sierraleone Bumbuna and data_3 is Togo Dapaong QC): \")\n",
    "name_of_data = locals()[name_of_data]\n",
    "scatter_plot= [('GHI', 'Tamb'), ('WS', 'WSgust')]\n",
    "plt.figure(figsize=(12, 6))\n",
    "for i, pair in enumerate(scatter_plot, start=1):\n",
    "    plt.subplot(1, len(scatter_plot), i)\n",
    "    plt.scatter(name_of_data[pair[0]], name_of_data[pair[1]], alpha=0.5)\n",
    "    plt.title(f'{pair[0]} vs. {pair[1]}')\n",
    "    plt.xlabel(pair[0])\n",
    "    plt.ylabel(pair[1])\n",
    "plt.tight_layout()"
   ]
  }
 ],
 "metadata": {
  "kernelspec": {
   "display_name": "Python 3",
   "language": "python",
   "name": "python3"
  },
  "language_info": {
   "codemirror_mode": {
    "name": "ipython",
    "version": 3
   },
   "file_extension": ".py",
   "mimetype": "text/x-python",
   "name": "python",
   "nbconvert_exporter": "python",
   "pygments_lexer": "ipython3",
   "version": "3.12.1"
  }
 },
 "nbformat": 4,
 "nbformat_minor": 2
}
